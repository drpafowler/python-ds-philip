{
 "cells": [
  {
   "cell_type": "markdown",
   "metadata": {},
   "source": [
    "Philip Fowler"
   ]
  },
  {
   "cell_type": "markdown",
   "metadata": {},
   "source": [
    "Method 1"
   ]
  },
  {
   "cell_type": "code",
   "execution_count": 3,
   "metadata": {},
   "outputs": [
    {
     "name": "stdout",
     "output_type": "stream",
     "text": [
      "*      *\n",
      "**    **\n",
      "***  ***\n",
      "********\n"
     ]
    }
   ],
   "source": [
    "# How many rows\n",
    "rows = 4\n",
    "\n",
    "# Loop to print the pattern\n",
    "for i in range(1, rows + 1):\n",
    "    # Print the left side of the pattern\n",
    "    print('*' * i, end='')\n",
    "    # Print the spaces in the middle\n",
    "    print(' ' * (2 * (rows - i)), end='')\n",
    "    # Print the right side of the pattern\n",
    "    print('*' * i)"
   ]
  },
  {
   "cell_type": "markdown",
   "metadata": {},
   "source": [
    "Method 2"
   ]
  },
  {
   "cell_type": "code",
   "execution_count": 4,
   "metadata": {},
   "outputs": [
    {
     "name": "stdout",
     "output_type": "stream",
     "text": [
      "*      *\n",
      "**    **\n",
      "***  ***\n",
      "********\n"
     ]
    }
   ],
   "source": [
    "# Number of rows for the pattern\n",
    "rows = 4\n",
    "\n",
    "# Loop to print the pattern\n",
    "for i in range(1, rows + 1):\n",
    "    # Print the left side of the pattern\n",
    "    for j in range(i):\n",
    "        print('*', end='')\n",
    "    # Print the spaces in the middle\n",
    "    for j in range(2 * (rows - i)):\n",
    "        print(' ', end='')\n",
    "    # Print the right side of the pattern\n",
    "    for j in range(i):\n",
    "        print('*', end='')\n",
    "    print()  # Move to the next line"
   ]
  },
  {
   "cell_type": "markdown",
   "metadata": {},
   "source": [
    "Method 3"
   ]
  },
  {
   "cell_type": "code",
   "execution_count": 5,
   "metadata": {},
   "outputs": [
    {
     "name": "stdout",
     "output_type": "stream",
     "text": [
      "*      *\n",
      "**    **\n",
      "***  ***\n",
      "********\n"
     ]
    }
   ],
   "source": [
    "# Number of rows for the pattern\n",
    "rows = 4\n",
    "\n",
    "# Loop to print the pattern\n",
    "for i in range(1, rows + 1):\n",
    "    left_side = '*' * i\n",
    "    spaces = ' ' * (2 * (rows - i))\n",
    "    right_side = '*' * i\n",
    "    print(f\"{left_side}{spaces}{right_side}\")"
   ]
  },
  {
   "cell_type": "markdown",
   "metadata": {},
   "source": [
    "Method 4"
   ]
  },
  {
   "cell_type": "code",
   "execution_count": 6,
   "metadata": {},
   "outputs": [
    {
     "name": "stdout",
     "output_type": "stream",
     "text": [
      "*      *\n",
      "**    **\n",
      "***  ***\n",
      "********\n"
     ]
    }
   ],
   "source": [
    "# Number of rows for the pattern\n",
    "rows = 4\n",
    "\n",
    "# Loop to print the pattern\n",
    "for i in range(1, rows + 1):\n",
    "    left_side = ''.join(['*' for _ in range(i)])\n",
    "    spaces = ''.join([' ' for _ in range(2 * (rows - i))])\n",
    "    right_side = ''.join(['*' for _ in range(i)])\n",
    "    print(left_side + spaces + right_side)"
   ]
  }
 ],
 "metadata": {
  "kernelspec": {
   "display_name": ".venv",
   "language": "python",
   "name": "python3"
  },
  "language_info": {
   "codemirror_mode": {
    "name": "ipython",
    "version": 3
   },
   "file_extension": ".py",
   "mimetype": "text/x-python",
   "name": "python",
   "nbconvert_exporter": "python",
   "pygments_lexer": "ipython3",
   "version": "3.12.5"
  }
 },
 "nbformat": 4,
 "nbformat_minor": 2
}
